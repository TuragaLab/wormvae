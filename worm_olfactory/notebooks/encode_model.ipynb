{
 "cells": [
  {
   "cell_type": "code",
   "execution_count": 1,
   "metadata": {},
   "outputs": [
    {
     "data": {
      "text/html": [
       "<style>.container { width:100% !important; }</style>"
      ],
      "text/plain": [
       "<IPython.core.display.HTML object>"
      ]
     },
     "metadata": {},
     "output_type": "display_data"
    }
   ],
   "source": [
    "import os,sys,datetime\n",
    "os.environ[\"CUDA_VISIBLE_DEVICES\"]=\"1\"\n",
    "from IPython.core.display import display, HTML\n",
    "display(HTML(\"<style>.container { width:100% !important; }</style>\"))\n",
    "from pathlib import Path\n",
    "import collections\n",
    "import numpy as np\n",
    "import scipy\n",
    "import pandas as pd\n",
    "from sklearn.linear_model import LinearRegression\n",
    "pd.options.display.max_columns=999\n",
    "import math\n",
    "import torch\n",
    "import torch.nn as nn\n",
    "import torch.nn.functional as F\n",
    "import torch.optim as optim\n",
    "import torch.distributions as dist\n",
    "from torch.autograd import Variable\n",
    "import torch.utils.data as Data\n",
    "import matplotlib.pyplot as plt\n",
    "plt.rcParams[\"animation.html\"] = \"jshtml\"\n",
    "import matplotlib.animation\n",
    "%matplotlib inline\n",
    "import seaborn as sns # Used only to set up plots\n",
    "sns.set_context(context = 'talk')\n",
    "sys.path.append(\"../..\")\n",
    "from lib import *\n",
    "%load_ext autoreload\n",
    "%autoreload 2\n",
    "basepath = Path.home()/'Samuel_Susoy_mating/'\n",
    "net = 'synaptic_partners_v1.csv'\n",
    "neuron = 'transmitters_and_annotations.csv'\n",
    "calcium_folder = 'normalized_activity_id_not_filtered/'\n"
   ]
  },
  {
   "cell_type": "code",
   "execution_count": 2,
   "metadata": {},
   "outputs": [
    {
     "name": "stdout",
     "output_type": "stream",
     "text": [
      "(2719, 11)\n"
     ]
    }
   ],
   "source": [
    "mdata = mating_data(basepath, net, neuron, calcium_folder)\n",
    "subnet_df = mdata.extract_subnet()\n",
    "subneuron_df = mdata.extract_subneuron()\n",
    "connectome = Connectome(subnet_df, subneuron_df, mdata.neurons)\n",
    "activity_list = ['HOA', 'HOB', 'PVZ', 'PCBL', 'PCCL', 'PCAL', 'SPCL', 'PVY', 'PVX',\n",
    "       'PVV', 'PHCL', 'PLML', 'PHDL', 'VA10', 'VA11', 'AS11', 'VB11', 'EF1',\n",
    "       'EF2', 'EF3', 'DVB', 'CP08', 'CA08', 'CA09', 'CP09', 'PVPR', 'R1AL',\n",
    "       'R1BL', 'R2AL', 'R2BL', 'R6AL', 'R4AL', 'R3AL', 'PHAL', 'SPDL', 'VD13',\n",
    "       'VD12', 'DB07', 'PDB', 'SPVL', 'VD11', 'DVA', 'VA12', 'DX1', 'DX2',\n",
    "       'PDC', 'AS10', 'DA07', 'DD06', 'PHBL', 'R8BL', 'R9BL', 'PVPL', 'PVT']\n",
    "behavior_list = ['Velocity', 'Rel.Velocity', 'Speed', 'Rel.Speed', 'TailAngle',\n",
    "       'LtoTips', 'LtoVul', 'Spicules', 'pos_x', 'pos_y', 'PostSperm']\n",
    "sensory_list = [n.name for n in connectome.sensory_neuron_list]\n",
    "encode_network = encoder.Encoder(len(behavior_list), len(sensory_list))\n",
    "\n",
    "#only training on the first worm and testing on the first worm\n",
    "train_bev_list = [mdata.behavior_matrix_list[0]]\n",
    "\n",
    "\n"
   ]
  },
  {
   "cell_type": "code",
   "execution_count": null,
   "metadata": {},
   "outputs": [],
   "source": []
  }
 ],
 "metadata": {
  "kernelspec": {
   "display_name": "Python 3",
   "language": "python",
   "name": "python3"
  },
  "language_info": {
   "codemirror_mode": {
    "name": "ipython",
    "version": 3
   },
   "file_extension": ".py",
   "mimetype": "text/x-python",
   "name": "python",
   "nbconvert_exporter": "python",
   "pygments_lexer": "ipython3",
   "version": "3.7.3"
  }
 },
 "nbformat": 4,
 "nbformat_minor": 4
}
