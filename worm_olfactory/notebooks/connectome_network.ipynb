{
 "cells": [
  {
   "cell_type": "code",
   "execution_count": 1,
   "metadata": {},
   "outputs": [],
   "source": [
    "import os, sys\n",
    "from pathlib import Path\n",
    "import collections\n",
    "import numpy as np\n",
    "import scipy\n",
    "import pandas as pd\n",
    "os.environ[\"CUDA_VISIBLE_DEVICES\"]=\"4\" \n",
    "import math\n",
    "import torch\n",
    "import torch.nn as nn\n",
    "import time\n",
    "sys.path.append(\"../..\")\n",
    "#sys.path.append(\"../lib\")\n",
    "import math\n",
    "import torch\n",
    "import torch.nn as nn\n",
    "import torch.nn.functional as F\n",
    "import torch.optim as optim\n",
    "import torch.distributions as dist\n",
    "from torch.autograd import Variable\n",
    "import torch.utils.data as Data\n",
    "import matplotlib.pyplot as plt\n",
    "from lib import *\n",
    "basepath = Path.home()/'Samuel_Susoy_mating/'\n",
    "net = 'synaptic_partners_v1.csv'\n",
    "neuron = 'transmitters_and_annotations.csv'\n",
    "calcium_folder = 'normalized_activity_id_not_filtered/'"
   ]
  },
  {
   "cell_type": "code",
   "execution_count": 2,
   "metadata": {},
   "outputs": [
    {
     "ename": "TypeError",
     "evalue": "'torch.device' object is not callable",
     "output_type": "error",
     "traceback": [
      "\u001b[0;31m---------------------------------------------------------------------------\u001b[0m",
      "\u001b[0;31mTypeError\u001b[0m                                 Traceback (most recent call last)",
      "\u001b[0;32m<ipython-input-2-e54d12d72f42>\u001b[0m in \u001b[0;36m<module>\u001b[0;34m\u001b[0m\n\u001b[1;32m      3\u001b[0m \u001b[0msubneuron_df\u001b[0m \u001b[0;34m=\u001b[0m \u001b[0mmdata\u001b[0m\u001b[0;34m.\u001b[0m\u001b[0mextract_subneuron\u001b[0m\u001b[0;34m(\u001b[0m\u001b[0;34m)\u001b[0m\u001b[0;34m\u001b[0m\u001b[0;34m\u001b[0m\u001b[0m\n\u001b[1;32m      4\u001b[0m \u001b[0mconnectome\u001b[0m \u001b[0;34m=\u001b[0m \u001b[0mConnectome\u001b[0m\u001b[0;34m(\u001b[0m\u001b[0msubnet_df\u001b[0m\u001b[0;34m,\u001b[0m \u001b[0msubneuron_df\u001b[0m\u001b[0;34m,\u001b[0m \u001b[0mmdata\u001b[0m\u001b[0;34m.\u001b[0m\u001b[0mneurons\u001b[0m\u001b[0;34m)\u001b[0m\u001b[0;34m\u001b[0m\u001b[0;34m\u001b[0m\u001b[0m\n\u001b[0;32m----> 5\u001b[0;31m \u001b[0mnetwork\u001b[0m \u001b[0;34m=\u001b[0m \u001b[0mNetwork\u001b[0m\u001b[0;34m(\u001b[0m\u001b[0mconnectome\u001b[0m\u001b[0;34m,\u001b[0m \u001b[0;34m'cuda'\u001b[0m\u001b[0;34m)\u001b[0m\u001b[0;34m\u001b[0m\u001b[0;34m\u001b[0m\u001b[0m\n\u001b[0m\u001b[1;32m      6\u001b[0m \u001b[0mnetwork\u001b[0m\u001b[0;34m.\u001b[0m\u001b[0mcuda\u001b[0m\u001b[0;34m(\u001b[0m\u001b[0;34m)\u001b[0m\u001b[0;34m\u001b[0m\u001b[0;34m\u001b[0m\u001b[0m\n\u001b[1;32m      7\u001b[0m \u001b[0mencoder_net\u001b[0m \u001b[0;34m=\u001b[0m \u001b[0mencoder\u001b[0m\u001b[0;34m.\u001b[0m\u001b[0mEncoder\u001b[0m\u001b[0;34m(\u001b[0m\u001b[0mlen\u001b[0m\u001b[0;34m(\u001b[0m\u001b[0mmdata\u001b[0m\u001b[0;34m.\u001b[0m\u001b[0mbehavior_list\u001b[0m\u001b[0;34m)\u001b[0m\u001b[0;34m*\u001b[0m\u001b[0;36m2\u001b[0m\u001b[0;34m,\u001b[0m\u001b[0mlen\u001b[0m\u001b[0;34m(\u001b[0m\u001b[0mconnectome\u001b[0m\u001b[0;34m.\u001b[0m\u001b[0mmale_sensory_neuron_list\u001b[0m\u001b[0;34m)\u001b[0m\u001b[0;34m)\u001b[0m\u001b[0;34m\u001b[0m\u001b[0;34m\u001b[0m\u001b[0m\n",
      "\u001b[0;32m~/worm_mating/lib/network.py\u001b[0m in \u001b[0;36m__init__\u001b[0;34m(self, connectome, device)\u001b[0m\n\u001b[1;32m     16\u001b[0m                 \u001b[0msuper\u001b[0m\u001b[0;34m(\u001b[0m\u001b[0mNetwork\u001b[0m\u001b[0;34m,\u001b[0m \u001b[0mself\u001b[0m\u001b[0;34m)\u001b[0m\u001b[0;34m.\u001b[0m\u001b[0m__init__\u001b[0m\u001b[0;34m(\u001b[0m\u001b[0;34m)\u001b[0m\u001b[0;34m\u001b[0m\u001b[0;34m\u001b[0m\u001b[0m\n\u001b[1;32m     17\u001b[0m                 \u001b[0mself\u001b[0m\u001b[0;34m.\u001b[0m\u001b[0mct\u001b[0m \u001b[0;34m=\u001b[0m \u001b[0mconnectome\u001b[0m\u001b[0;34m\u001b[0m\u001b[0;34m\u001b[0m\u001b[0m\n\u001b[0;32m---> 18\u001b[0;31m                 \u001b[0mself\u001b[0m\u001b[0;34m.\u001b[0m\u001b[0mchem_adj\u001b[0m \u001b[0;34m=\u001b[0m \u001b[0mtorch\u001b[0m\u001b[0;34m.\u001b[0m\u001b[0mfrom_numpy\u001b[0m\u001b[0;34m(\u001b[0m\u001b[0mself\u001b[0m\u001b[0;34m.\u001b[0m\u001b[0mct\u001b[0m\u001b[0;34m.\u001b[0m\u001b[0mchem_adj_matrix\u001b[0m\u001b[0;34m)\u001b[0m\u001b[0;34m.\u001b[0m\u001b[0mto\u001b[0m\u001b[0;34m(\u001b[0m\u001b[0mtorch\u001b[0m\u001b[0;34m.\u001b[0m\u001b[0mfloat32\u001b[0m\u001b[0;34m)\u001b[0m\u001b[0;34m.\u001b[0m\u001b[0mdevice\u001b[0m\u001b[0;34m(\u001b[0m\u001b[0mdevice\u001b[0m\u001b[0;34m)\u001b[0m\u001b[0;34m\u001b[0m\u001b[0;34m\u001b[0m\u001b[0m\n\u001b[0m\u001b[1;32m     19\u001b[0m                 \u001b[0mself\u001b[0m\u001b[0;34m.\u001b[0m\u001b[0melec_adj\u001b[0m \u001b[0;34m=\u001b[0m \u001b[0mtorch\u001b[0m\u001b[0;34m.\u001b[0m\u001b[0mfrom_numpy\u001b[0m\u001b[0;34m(\u001b[0m\u001b[0mself\u001b[0m\u001b[0;34m.\u001b[0m\u001b[0mct\u001b[0m\u001b[0;34m.\u001b[0m\u001b[0melec_adj_matrix\u001b[0m\u001b[0;34m)\u001b[0m\u001b[0;34m.\u001b[0m\u001b[0mto\u001b[0m\u001b[0;34m(\u001b[0m\u001b[0mtorch\u001b[0m\u001b[0;34m.\u001b[0m\u001b[0mfloat32\u001b[0m\u001b[0;34m)\u001b[0m\u001b[0;34m.\u001b[0m\u001b[0mdevice\u001b[0m\u001b[0;34m(\u001b[0m\u001b[0mdevice\u001b[0m\u001b[0;34m)\u001b[0m\u001b[0;34m\u001b[0m\u001b[0;34m\u001b[0m\u001b[0m\n\u001b[1;32m     20\u001b[0m                 \u001b[0mself\u001b[0m\u001b[0;34m.\u001b[0m\u001b[0mchem_adj\u001b[0m\u001b[0;34m.\u001b[0m\u001b[0mrequires_grad\u001b[0m \u001b[0;34m=\u001b[0m \u001b[0;32mFalse\u001b[0m\u001b[0;34m\u001b[0m\u001b[0;34m\u001b[0m\u001b[0m\n",
      "\u001b[0;31mTypeError\u001b[0m: 'torch.device' object is not callable"
     ]
    }
   ],
   "source": [
    "mdata = mating_data(basepath, net, neuron, calcium_folder)\n",
    "subnet_df = mdata.extract_subnet()\n",
    "subneuron_df = mdata.extract_subneuron()\n",
    "connectome = Connectome(subnet_df, subneuron_df, mdata.neurons)\n",
    "network = Network(connectome, 'cuda')\n",
    "network.cuda()\n",
    "encoder_net = encoder.Encoder(len(mdata.behavior_list)*2,len(connectome.male_sensory_neuron_list))\n",
    "encoder_net.cuda()\n",
    "batch_size = 100\n",
    "x_in = torch.from_numpy(np.random.uniform(size = (1,len(connectome.neuron_list)))).to(torch.float32).cuda()\n",
    "c_in = torch.from_numpy(np.random.uniform(size = (1,len(connectome.neuron_list)))).to(torch.float32).cuda()\n",
    "stim_features_np = mdata.behavior_matrix_list[0]\n",
    "miss_behavior = np.zeros(shape = mdata.behavior_matrix_list[0].shape)\n",
    "miss_behavior[np.isnan(mdata.behavior_matrix_list[0])] = 1\n",
    "missing_stim = torch.from_numpy(miss_behavior).to(torch.float32).cuda()\n",
    "stim_features_np[np.isnan(stim_features_np)] = 0\n",
    "stim_features = torch.from_numpy(stim_features_np).to(torch.float32).cuda()\n",
    "target = torch.from_numpy(mdata.activity_matrix_list[0]).to(torch.float32).cuda()\n",
    "miss_activity = np.zeros(shape = mdata.activity_matrix_list[0].shape)\n",
    "miss_activity[mdata.activity_matrix_list[0] == 0] = 1\n",
    "missing_target = torch.from_numpy(miss_activity).to(torch.float32).cuda()\n",
    "sensory_neuron_indices = [n.index for n in connectome.male_sensory_neuron_list]\n",
    "encoder_input = torch.cat((stim_features, missing_stim), dim = 1)"
   ]
  },
  {
   "cell_type": "code",
   "execution_count": null,
   "metadata": {},
   "outputs": [],
   "source": [
    "def train(encoder_input,x_init, c_init, target, missing_target, learning_rate, encoder_net, network, epochs, batch_size):\n",
    "    print(\"training\")\n",
    "    loss_list,activity_list = [],[]\n",
    "    criterion = network.loss\n",
    "    params = list(encoder_net.parameters()) + list(network.parameters())\n",
    "    optimizer = torch.optim.Adam(params, lr = learning_rate)\n",
    "    for epoch in range(epochs):\n",
    "        loss_sum = 0\n",
    "        T = target.shape[0]\n",
    "        batch_num = int(T/batch_size)\n",
    "        start_indices = np.random.choice(batch_num, batch_num) \n",
    "        x,c,s = x_init, c_init, torch.zeros(x_init.shape[1])\n",
    "        activity_trace = torch.zeros((target.shape[0], x_init.shape[1]))\n",
    "        for index in start_indices:\n",
    "            optimizer.zero_grad()\n",
    "            seq_length = batch_size\n",
    "            if index == batch_num:\n",
    "                seq_length = target.shape[1]%batch_size\n",
    "            for i in range(seq_length):\n",
    "                sensory_input = encoder_net.forward(encoder_input[index*batch_size + i,:])\n",
    "                for k, neuron_index in enumerate(sensory_neuron_indices):\n",
    "                    s[neuron_index] = sensory_input[k]\n",
    "                x,c, = network.forward(x,c,s)\n",
    "                activity_trace[index*batch_size + i,:] = x\n",
    "                loss = criterion(x,target[index*batch_size + i,:], missing_target[index*batch_size + i,:])\n",
    "                loss.backward(retain_graph = True)\n",
    "                loss_sum += loss.item()\n",
    "            optimizer.step()\n",
    "        epoch_loss = loss_sum/target.shape[0]\n",
    "        print(\"epoch number: \", epoch, \"Loss: \", epoch_loss)\n",
    "        loss_list.append(epoch_loss)\n",
    "        if epoch%50 == 0:\n",
    "            activity_list.append(activity_trace)\n",
    "    print(\"Done training\")\n",
    "    return loss_list, activity_list"
   ]
  },
  {
   "cell_type": "code",
   "execution_count": null,
   "metadata": {},
   "outputs": [],
   "source": [
    "start_time = time.time()\n",
    "loss_list,activity_list = train(encoder_input, x_in, c_in,target, missing_target, 1e-3, encoder_net, network, epochs = 1, batch_size = batch_size)\n",
    "end_time = time.time()\n",
    "print(\"total training time: \", end_time-start_time)\n",
    "torch.save(network.state_dict(), Path.home()/\"worm_mating/experiments/test\")"
   ]
  },
  {
   "cell_type": "code",
   "execution_count": null,
   "metadata": {},
   "outputs": [],
   "source": [
    "plt.plot(loss_list)\n",
    "print(loss_list)"
   ]
  },
  {
   "cell_type": "code",
   "execution_count": null,
   "metadata": {},
   "outputs": [],
   "source": [
    "statedict = torch.load(Path.home()/\"worm_mating/experiments/test\")\n",
    "network.load_state_dict(statedict)\n",
    "x_init = torch.from_numpy(np.zeros(shape = (1,len(connectome.neuron_list)))).to(torch.float32)\n",
    "c_init = torch.from_numpy(np.zeros(shape = (1,len(connectome.neuron_list)))).to(torch.float32)\n",
    "print(missing_target.shape)\n",
    "sense_in = encoder_net.predict(stim_features, missing_stim, missing_target, target)\n",
    "print(sense_in.shape)\n",
    "s = torch.zeros(stim_features.shape[0],x_init.shape[1])\n",
    "for k, neuron_index in enumerate(sensory_neuron_indices):\n",
    "    s[:,neuron_index] = sense_in[:,k]\n",
    "x_out, c_out, loss = network.predict(x_init,c_init,s,target, missing_target)\n"
   ]
  },
  {
   "cell_type": "code",
   "execution_count": null,
   "metadata": {},
   "outputs": [],
   "source": [
    "mating_activity = x_out[-54:,:].data.numpy()\n",
    "np_target = target.data.numpy()"
   ]
  },
  {
   "cell_type": "code",
   "execution_count": null,
   "metadata": {},
   "outputs": [],
   "source": [
    "for i in range(mating_activity.shape[0]):\n",
    "    f,axes = plt.subplots(1,2,sharex=True,figsize=(20,7))\n",
    "    axes[0].set_title(\"Predicted : \" + connectome.neuron_names[i])\n",
    "    axes[1].set_title(\"Ground Truth : \" + connectome.neuron_names[i])\n",
    "    axes[0].plot(mating_activity[i,:])\n",
    "    axes[1].plot(np_target[:,i])\n",
    "    "
   ]
  },
  {
   "cell_type": "code",
   "execution_count": null,
   "metadata": {},
   "outputs": [],
   "source": []
  },
  {
   "cell_type": "code",
   "execution_count": null,
   "metadata": {},
   "outputs": [],
   "source": []
  },
  {
   "cell_type": "code",
   "execution_count": null,
   "metadata": {},
   "outputs": [],
   "source": []
  }
 ],
 "metadata": {
  "kernelspec": {
   "display_name": "Python 3",
   "language": "python",
   "name": "python3"
  },
  "language_info": {
   "codemirror_mode": {
    "name": "ipython",
    "version": 3
   },
   "file_extension": ".py",
   "mimetype": "text/x-python",
   "name": "python",
   "nbconvert_exporter": "python",
   "pygments_lexer": "ipython3",
   "version": "3.7.3"
  }
 },
 "nbformat": 4,
 "nbformat_minor": 4
}
